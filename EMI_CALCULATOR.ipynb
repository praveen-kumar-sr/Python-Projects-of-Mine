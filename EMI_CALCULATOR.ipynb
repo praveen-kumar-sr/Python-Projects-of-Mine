{
 "cells": [
  {
   "cell_type": "markdown",
   "id": "97cb3262",
   "metadata": {},
   "source": [
    "---\n",
    "---\n",
    "\n",
    "<center><h1> 📍 📍EMI Calculator 📍 📍</h1></center>\n",
    "\n",
    "---\n",
    "\n",
    "We all have come across the term **`EMI`** in everyday life. While buying any product, we get an option of the **`EMI Payment method`**. The full form of **`EMI`** is **`Equated Monthly Instalment`**. Through this, one must pay a specific sum to the seller on a fixed date each month with a fixed interest rate. EMI calculator helps calculate the amount with its interest rate that a buyer needs to pay to the seller.\n",
    "EMI Calculator is used to calculate home loans, car loans, bike loans, education loans EMI. In this assignment, you make you own EMI Calculator. If you are completely new to the concept of EMIS, then go through this\n",
    "immediately: https://www.embibe.com/exams/emi-calculator/\n",
    "\n",
    "### Factors affecting EMI\n",
    "\n",
    "**EMI of a loan have three major factors on which it depends:**\n",
    "article\n",
    "1. **Loan Amount**: This stands for the total amount or the principal amount that the individual has borrowed.\n",
    "2. **Interest Rate**: It is a rate at which the interest is charged on the amount borrowed.\n",
    "3. **Tenure of the Loan**: It is an agreed loan repayment time frame between the borrower and the lender."
   ]
  },
  {
   "cell_type": "markdown",
   "id": "9f481d8a",
   "metadata": {},
   "source": [
    "### Assignment\n",
    "\n",
    "#### Using a Python code, answer the following:\n",
    "\n",
    "---\n",
    "1. Let's calculate the Home Loan EMI now using Python code. Principal Amount 50Lakhs, Rate of interest 8%, and Loan repayment tenure is 15 years. Find the EMI to be paid?\n",
    "---\n",
    "2. If the interest rate increases to 10%, and you cannot pay more than 30,000 as EMI, find the maximum amount of Loan you can take/afford for the same period?\n",
    "---\n",
    "3. For the Que 1. what is the total interest paid by you year-wise (from the 1st year to the 15th year). Also, what is the total cumulative interest paid by you in 15 years?\n",
    "---\n",
    "4. For the Que 1., in how many months would you have paid at least 50% of the Principal amount.\n",
    "---"
   ]
  },
  {
   "cell_type": "code",
   "execution_count": 8,
   "id": "b66cf74b",
   "metadata": {},
   "outputs": [],
   "source": [
    "# code to execute Question 1, Question 2, Question 3\n",
    "\n",
    "import math\n",
    "\n",
    "# Function that I used for Question_1 to calculate EMI\n",
    "\n",
    "def Emi(p,r,n):                                        # Arguements (p- Principal, r-Rate, n- Tenure)\n",
    "    emi_amt= (p*r*(1+r)**n)/(((1+r)**n)-1)\n",
    "    return emi_amt\n",
    "\n",
    "\n",
    "\n",
    "\n",
    "# Function that I used for Question_2 to calculate Loan Amount i.e. Principal\n",
    "\n",
    "def Loan(t,r,n):                                      # Arguements (t- Threshold, r-Rate, n- Tenure)\n",
    "    loan_amt = t * (((1+r)**n)-1) / (r*(1+r)**n)\n",
    "    return loan_amt\n",
    "\n",
    "\n",
    "\n",
    "\n",
    "# Function that I used for Question 3 to know year-wise interest and Total Cumulative Interest\n",
    "\n",
    "def Total_Cumulative_Interest(p,r,EMI):\n",
    "    interest_paid=0\n",
    "    year_wise=[0]\n",
    "    Total_Interest=0\n",
    "    P=p\n",
    "    j=1\n",
    "    print(\"Year-wise Interest paid details\\n\")\n",
    "    for i in range(1,n+1):\n",
    "        interest = (r*100)*(P/100)\n",
    "        P=P+(interest-EMI)\n",
    "        interest_paid+=interest\n",
    "        if(i%12==0):\n",
    "            year_wise.append(interest_paid)\n",
    "            print(\"Year %.0f : Interest Paid : ₹%.0f\"%(i/12,year_wise[j]-year_wise[j-1]))\n",
    "            Total_Interest+=year_wise[j]-year_wise[j-1]\n",
    "            j+=1\n",
    "    return Total_Interest"
   ]
  },
  {
   "cell_type": "markdown",
   "id": "fe26d10f",
   "metadata": {},
   "source": [
    " "
   ]
  },
  {
   "cell_type": "markdown",
   "id": "5d844ee4",
   "metadata": {},
   "source": [
    " "
   ]
  },
  {
   "cell_type": "code",
   "execution_count": 7,
   "id": "c1ff152b",
   "metadata": {},
   "outputs": [],
   "source": [
    "# Functions to get Input Variables \n",
    "\n",
    "def Principal():\n",
    "    while True:\n",
    "        Principal_Amount = input(\"Enter Principal Amount: \")\n",
    "        if Principal_Amount.isnumeric():\n",
    "            Principal_Amount = int(Principal_Amount)\n",
    "            return Principal_Amount\n",
    "            break\n",
    "        else:\n",
    "            print(\"Invalid input, please enter a valid AMOUNT.\")\n",
    "            \n",
    "            \n",
    "            \n",
    "            \n",
    "def Interest():\n",
    "    while True:\n",
    "        Rate_of_Interest = input(\"Enter Rate of Interest: \")\n",
    "        if Rate_of_Interest.isnumeric() and (0 <= int(Rate_of_Interest) <= 100):\n",
    "            Rate_of_Interest= float(Rate_of_Interest)/(12*100)\n",
    "            return Rate_of_Interest\n",
    "            break\n",
    "        else:\n",
    "            print(\"Invalid input, please enter a valid percentage value between 0 and 100.\")\n",
    "            \n",
    "            \n",
    "            \n",
    "        \n",
    "def Years():\n",
    "    while True:\n",
    "        Tenure = input(\"Enter Loan Repayment Tenure in Years: \")\n",
    "        if Tenure.isnumeric():\n",
    "            Tenure= int(Tenure)*12\n",
    "            return Tenure\n",
    "            break\n",
    "        else:\n",
    "            print(\"Invalid input, please enter a valid TENURE.\")\n",
    "            \n",
    "            \n",
    "            \n",
    "            \n",
    "def Emi_Threshold():\n",
    "    while True:\n",
    "        threshold = input(\"Enter EMI Threshold Amount: \")\n",
    "        if threshold.isnumeric():\n",
    "            threshold = int(threshold)\n",
    "            return threshold\n",
    "            break\n",
    "        else:\n",
    "            print(\"Invalid input, please enter a valid EMI Threshold AMOUNT.\")"
   ]
  },
  {
   "cell_type": "markdown",
   "id": "c8c6c905",
   "metadata": {},
   "source": [
    "\n",
    "\n",
    "\n",
    "\n",
    " "
   ]
  },
  {
   "cell_type": "markdown",
   "id": "04edc00a",
   "metadata": {},
   "source": [
    " \n",
    " "
   ]
  },
  {
   "cell_type": "code",
   "execution_count": 3,
   "id": "cca71810",
   "metadata": {
    "scrolled": true
   },
   "outputs": [
    {
     "name": "stdout",
     "output_type": "stream",
     "text": [
      "Enter Principal Amount: 5000000\n",
      "Enter Rate of Interest: 8\n",
      "Enter Loan Repayment Tenure in Years: 15\n",
      "\n",
      "The EMI to be paid is ₹47783 monthly\n",
      "\n"
     ]
    }
   ],
   "source": [
    "# Question 1\n",
    "# Principal Amount 50Lakhs, Rate of interest 8%, and Loan repayment tenure is 15 years. Find the EMI to be paid?\n",
    "\n",
    "p=Principal()\n",
    "r=Interest()\n",
    "n=Years()\n",
    "EMI=Emi(p,r,n)\n",
    "\n",
    "print(\"\\nThe EMI to be paid is ₹%.0f monthly\\n\"%(EMI))\n",
    "\n",
    "# inputs: Principal Amount: 5000000\n",
    "#         Rate of Interest: 8\n",
    "#         Tenure: 15 "
   ]
  },
  {
   "cell_type": "markdown",
   "id": "f92bb850",
   "metadata": {},
   "source": [
    " "
   ]
  },
  {
   "cell_type": "code",
   "execution_count": 4,
   "id": "e3e9556a",
   "metadata": {
    "scrolled": false
   },
   "outputs": [
    {
     "name": "stdout",
     "output_type": "stream",
     "text": [
      "Enter EMI Threshold Amount: 30000\n",
      "Enter Rate of Interest: 10\n",
      "\n",
      "The Maximum amount of Loan You can take for given Threshold for same period of 15 years is ₹2791723\n"
     ]
    }
   ],
   "source": [
    "# Question 2\n",
    "# If the interest rate increases to 10%, and you cannot pay more than 30,000 as EMI,\n",
    "# find the maximum amount of Loan you can take/afford for the same period?\n",
    "\n",
    "t=Emi_Threshold()\n",
    "R=Interest()\n",
    "print(\"\\nThe Maximum amount of Loan You can take for given Threshold for same period of %d years is ₹%.0f\"%(n/12,Loan(t,R,n=n)))\n",
    "\n",
    "# inputs: EMI Threshold Amount: 30000\n",
    "#         Rate Increased: 10"
   ]
  },
  {
   "cell_type": "markdown",
   "id": "d6aa703d",
   "metadata": {},
   "source": [
    " "
   ]
  },
  {
   "cell_type": "markdown",
   "id": "b1eea7d8",
   "metadata": {},
   "source": [
    " "
   ]
  },
  {
   "cell_type": "code",
   "execution_count": 5,
   "id": "2f0dae62",
   "metadata": {
    "scrolled": true
   },
   "outputs": [
    {
     "name": "stdout",
     "output_type": "stream",
     "text": [
      "Year-wise Interest paid details\n",
      "\n",
      "Year 1 : Interest Paid : ₹393499\n",
      "Year 2 : Interest Paid : ₹378568\n",
      "Year 3 : Interest Paid : ₹362398\n",
      "Year 4 : Interest Paid : ₹344885\n",
      "Year 5 : Interest Paid : ₹325919\n",
      "Year 6 : Interest Paid : ₹305379\n",
      "Year 7 : Interest Paid : ₹283135\n",
      "Year 8 : Interest Paid : ₹259043\n",
      "Year 9 : Interest Paid : ₹232953\n",
      "Year 10 : Interest Paid : ₹204696\n",
      "Year 11 : Interest Paid : ₹174095\n",
      "Year 12 : Interest Paid : ₹140954\n",
      "Year 13 : Interest Paid : ₹105061\n",
      "Year 14 : Interest Paid : ₹66190\n",
      "Year 15 : Interest Paid : ₹24093\n",
      "\n",
      "Total Cumulative Interest is : ₹3600869\n"
     ]
    }
   ],
   "source": [
    "# Question 3\n",
    "# For the Que 1. what is the total interest paid by you year-wise (from the 1st year to the 15th year).\n",
    "# Also, what is the total cumulative interest paid by you in 15 years?\n",
    "\n",
    "Total_Interest=Total_Cumulative_Interest(p,r,EMI)\n",
    "print(\"\\nTotal Cumulative Interest is : ₹%.0f\"%(Total_Interest))"
   ]
  },
  {
   "cell_type": "markdown",
   "id": "2c7bc6ff",
   "metadata": {},
   "source": [
    " "
   ]
  },
  {
   "cell_type": "markdown",
   "id": "0c018973",
   "metadata": {},
   "source": [
    " "
   ]
  },
  {
   "cell_type": "code",
   "execution_count": 6,
   "id": "bbe2f367",
   "metadata": {
    "scrolled": true
   },
   "outputs": [
    {
     "name": "stdout",
     "output_type": "stream",
     "text": [
      "Months taken to pay at least 50% of Principal is: 53 Months\n"
     ]
    }
   ],
   "source": [
    "# Question 4\n",
    "# For the Que 1., in how many months would you have paid at least 50% of the Principal amount?\n",
    "\n",
    "print(\"Months taken to pay at least 50%c of Principal is: %.0f Months\"%(\"%\",math.ceil(p/(2*EMI))))"
   ]
  },
  {
   "cell_type": "markdown",
   "id": "729db62b",
   "metadata": {},
   "source": [
    " "
   ]
  },
  {
   "cell_type": "markdown",
   "id": "11ab4b75",
   "metadata": {},
   "source": [
    " "
   ]
  }
 ],
 "metadata": {
  "kernelspec": {
   "display_name": "Python 3 (ipykernel)",
   "language": "python",
   "name": "python3"
  },
  "language_info": {
   "codemirror_mode": {
    "name": "ipython",
    "version": 3
   },
   "file_extension": ".py",
   "mimetype": "text/x-python",
   "name": "python",
   "nbconvert_exporter": "python",
   "pygments_lexer": "ipython3",
   "version": "3.10.4"
  }
 },
 "nbformat": 4,
 "nbformat_minor": 5
}
